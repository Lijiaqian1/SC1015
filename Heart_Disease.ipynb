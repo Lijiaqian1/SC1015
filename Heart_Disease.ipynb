{
 "cells": [
  {
   "cell_type": "markdown",
   "id": "a860fe44-a130-4ca6-8532-f274367ac563",
   "metadata": {},
   "source": [
    "## "
   ]
  },
  {
   "cell_type": "markdown",
   "id": "1507726b",
   "metadata": {},
   "source": [
    "# Heart disease prediction"
   ]
  },
  {
   "cell_type": "code",
   "execution_count": null,
   "id": "bebad14b",
   "metadata": {},
   "outputs": [],
   "source": [
    "# Basic Libraries\n",
    "import numpy as np\n",
    "import pandas as pd\n",
    "import seaborn as sb\n",
    "import matplotlib.pyplot as plt # we only need pyplot\n",
    "from sklearn.model_selection import train_test_split\n",
    "from sklearn.tree import DecisionTreeClassifier\n",
    "from sklearn.tree import plot_tree\n",
    "from sklearn.metrics import confusion_matrix\n",
    "from ydata_profiling import ProfileReport\n",
    "#Profile report takes very long to generate change the bool below to allow for report generation\n",
    "togeneratereport = True\n",
    "sb.set() # set the default Seaborn style for graphics\n"
   ]
  },
  {
   "cell_type": "code",
   "execution_count": null,
   "id": "d044e030",
   "metadata": {},
   "outputs": [],
   "source": [
    "heartdata = pd.read_excel(\"Heart.xlsx\")\n",
    "heartdata.head()"
   ]
  },
  {
   "cell_type": "code",
   "execution_count": null,
   "id": "082168f2",
   "metadata": {},
   "outputs": [],
   "source": [
    "heartdata.info()"
   ]
  },
  {
   "cell_type": "code",
   "execution_count": null,
   "id": "c828b543",
   "metadata": {},
   "outputs": [],
   "source": [
    "if togeneratereport:\n",
    "    profile = ProfileReport(heartdata, title=\"Profiling Report Before Data Cleaning\")\n",
    "    profile.to_notebook_iframe()"
   ]
  },
  {
   "cell_type": "markdown",
   "id": "9b344648",
   "metadata": {},
   "source": [
    "### Data Cleaning "
   ]
  },
  {
   "cell_type": "code",
   "execution_count": null,
   "id": "0f39bc07",
   "metadata": {},
   "outputs": [],
   "source": [
    "#drop irrelevant columns - Name, Treatments \n",
    "heartdata = heartdata.drop(columns=['Name', 'Treatment'])"
   ]
  },
  {
   "cell_type": "code",
   "execution_count": null,
   "id": "d747f5aa",
   "metadata": {},
   "outputs": [],
   "source": [
    "heartdata.info()"
   ]
  },
  {
   "cell_type": "code",
   "execution_count": null,
   "id": "32592a36",
   "metadata": {},
   "outputs": [],
   "source": [
    "pd.set_option('display.max_columns', None)\n",
    "pd.set_option('display.max_rows', None)\n",
    "heartdata.describe()"
   ]
  },
  {
   "cell_type": "code",
   "execution_count": null,
   "id": "24913aed",
   "metadata": {},
   "outputs": [],
   "source": [
    "#Remove Outliers for Age\n",
    "\n",
    "def remove_outliers(df, df_col): \n",
    "    q1 = np.percentile(df_col, 25)\n",
    "    q3 = np.percentile(df_col, 75)\n",
    "    iqr = q3-q1\n",
    "    low_bound = q1-(1.5*iqr)\n",
    "    upp_bound = q3+(1.5*iqr)\n",
    "    df=df[(df_col>=low_bound)&(df_col<=upp_bound)]\n",
    "    return df"
   ]
  },
  {
   "cell_type": "code",
   "execution_count": null,
   "id": "aab340b3",
   "metadata": {},
   "outputs": [],
   "source": [
    "heartdata = remove_outliers(heartdata, heartdata[\"Age\"])\n",
    "heartdata.describe()"
   ]
  },
  {
   "cell_type": "code",
   "execution_count": null,
   "id": "34c75442",
   "metadata": {},
   "outputs": [],
   "source": [
    "#Change \"Heart Disease\" column from string to numerical categorical data \n",
    "heartdata[\"Heart Disease\"] = heartdata[\"Heart Disease\"].map({\"Absence\":0, \"Presence\":1})\n",
    "heartdata[\"Heart Disease\"].value_counts()"
   ]
  },
  {
   "cell_type": "code",
   "execution_count": null,
   "id": "abd9908f",
   "metadata": {},
   "outputs": [],
   "source": [
    "heartdata[\"Blood culture\"].value_counts()"
   ]
  },
  {
   "cell_type": "code",
   "execution_count": null,
   "id": "7c1803c3",
   "metadata": {},
   "outputs": [],
   "source": [
    "\"\"\"\n",
    "Sort strings into categorical data, categorize by type of bacteria: None(0), Staphylococcus(1), Streptococcus(2), \n",
    "Candida(3), Other(4)\n",
    "\"\"\"\n",
    "def blood_culture(data): \n",
    "    if data=='None': \n",
    "        return 0\n",
    "    elif 'Staphylococcus' in data: \n",
    "        return 1\n",
    "    elif 'Streptococcus' in data: \n",
    "        return 2 \n",
    "    elif 'Candida' in data: \n",
    "        return 3\n",
    "    else: \n",
    "        return 4 \n",
    "heartdata[\"Blood culture\"]=heartdata[\"Blood culture\"].map(blood_culture)\n",
    "heartdata[\"Blood culture\"].value_counts()"
   ]
  },
  {
   "cell_type": "code",
   "execution_count": null,
   "id": "af2a83e8",
   "metadata": {},
   "outputs": [],
   "source": [
    "heartdata[\"Echocardiogram\"].value_counts() #this data is partially represented in other columns - drop? "
   ]
  },
  {
   "cell_type": "code",
   "execution_count": null,
   "id": "9574309a",
   "metadata": {},
   "outputs": [],
   "source": [
    "heartdata[\"EKG\"].value_counts() #too many variations - drop col?"
   ]
  },
  {
   "cell_type": "code",
   "execution_count": null,
   "id": "8b62cb7b",
   "metadata": {},
   "outputs": [],
   "source": [
    "heartdata[\"Cardiac CT\"].value_counts()"
   ]
  },
  {
   "cell_type": "code",
   "execution_count": null,
   "id": "4c33f7f0",
   "metadata": {},
   "outputs": [],
   "source": [
    "heartdata[\"Chest x-ray\"].value_counts() #too many empty, drop col or assume normal lung structure? "
   ]
  },
  {
   "cell_type": "code",
   "execution_count": null,
   "id": "1471a2d5",
   "metadata": {},
   "outputs": [],
   "source": [
    "heartdata[\"Previous illnesses\"].value_counts() #change to 1s and 0s "
   ]
  },
  {
   "cell_type": "code",
   "execution_count": null,
   "id": "412cd862",
   "metadata": {},
   "outputs": [],
   "source": [
    "def previous_illnesses(data): \n",
    "    if data=='None': \n",
    "        return 0\n",
    "    else:\n",
    "        return 1\n",
    "heartdata[\"Previous illnesses\"]=heartdata[\"Previous illnesses\"].map(previous_illnesses)\n",
    "heartdata[\"Previous illnesses\"].value_counts()"
   ]
  },
  {
   "cell_type": "code",
   "execution_count": null,
   "id": "88a5ea71",
   "metadata": {},
   "outputs": [],
   "source": [
    "heartdata[\"Pulmonary function tests\"].value_counts() #too many empty, drop col"
   ]
  },
  {
   "cell_type": "code",
   "execution_count": null,
   "id": "6ab076a7",
   "metadata": {},
   "outputs": [],
   "source": [
    "heartdata[\"Spirometry\"].value_counts() #too many empty, drop col"
   ]
  },
  {
   "cell_type": "code",
   "execution_count": null,
   "id": "f0bf8494",
   "metadata": {},
   "outputs": [],
   "source": [
    "heartdata.describe()"
   ]
  },
  {
   "cell_type": "code",
   "execution_count": null,
   "id": "8e93690f",
   "metadata": {},
   "outputs": [],
   "source": [
    "def stenosis(data): \n",
    "    if data[\"Mitral stenosis\"]==1: \n",
    "        return 1\n",
    "    elif data[\"Aortic stenosis\"]==1: \n",
    "        return 1 \n",
    "    elif data[\"Tricuspid stenosis\"]==1:\n",
    "        return 1 \n",
    "    elif data[\"Pulmonary stenosis\"]==1: \n",
    "        return 1\n",
    "    else: \n",
    "        return 0\n",
    "heartdata[\"Stenosis\"]=heartdata.apply(lambda data:stenosis(data), axis=1)"
   ]
  },
  {
   "cell_type": "code",
   "execution_count": null,
   "id": "0a438a89",
   "metadata": {},
   "outputs": [],
   "source": [
    "def cardiomyopathy(data): \n",
    "    if data[\"Dilated cardiomyopathy\"]==1: \n",
    "        return 1\n",
    "    elif data[\"Hypertrophic cardiomyopathy\"]==1: \n",
    "        return 1 \n",
    "    elif data[\"Restrictive cardiomyopathy\"]==1:\n",
    "        return 1 \n",
    "    elif data[\"Arrhythmogenic right ventricular cardiomyopathy\"]==1: \n",
    "        return 1\n",
    "    elif data[\"Takotsubo cardiomyopathy\"]==1: \n",
    "        return 1\n",
    "    else: \n",
    "        return 0\n",
    "heartdata[\"Cardiomyopathy\"]=heartdata.apply(lambda data:cardiomyopathy(data), axis=1)"
   ]
  },
  {
   "cell_type": "code",
   "execution_count": null,
   "id": "4ec66e39",
   "metadata": {},
   "outputs": [],
   "source": [
    "heartdata.describe()"
   ]
  },
  {
   "cell_type": "code",
   "execution_count": null,
   "id": "9930db31",
   "metadata": {},
   "outputs": [],
   "source": [
    "heartdata.head()"
   ]
  },
  {
   "attachments": {},
   "cell_type": "markdown",
   "id": "00621a37",
   "metadata": {},
   "source": [
    "### EDA"
   ]
  },
  {
   "cell_type": "code",
   "execution_count": null,
   "id": "0577c849",
   "metadata": {},
   "outputs": [],
   "source": [
    "if togeneratereport:\n",
    "    profile = ProfileReport(heartdata, title=\"Profiling Report\")\n",
    "    profile.to_notebook_iframe()"
   ]
  },
  {
   "cell_type": "code",
   "execution_count": null,
   "id": "54703d92",
   "metadata": {},
   "outputs": [],
   "source": [
    "dataNum = heartdata.select_dtypes(include = np.int64)"
   ]
  },
  {
   "cell_type": "code",
   "execution_count": null,
   "id": "2455f26b",
   "metadata": {},
   "outputs": [],
   "source": [
    "chestpain = pd.DataFrame(dataNum['Chest pain'])\n",
    "f = plt.figure(figsize=(24, 12))\n",
    "sb.histplot(data=chestpain, bins=2)"
   ]
  },
  {
   "cell_type": "code",
   "execution_count": null,
   "id": "f37e97eb",
   "metadata": {},
   "outputs": [],
   "source": [
    "binary_vars = []\n",
    "for col in heartdata.columns:\n",
    "    if heartdata[col].nunique() == 2:\n",
    "        binary_vars.append(col)\n",
    "corr_matrix = heartdata[binary_vars + ['Heart Disease']].corr()\n",
    "f, ax = plt.subplots(figsize=(30, 30))\n",
    "sb.heatmap(corr_matrix, cmap='coolwarm', annot=True,ax=ax)\n",
    "\n",
    "# Create subplots for each binary variable\n",
    "fig, axes = plt.subplots(nrows=len(binary_vars), figsize=(8, 6*len(binary_vars)))\n",
    "for i, var in enumerate(binary_vars):\n",
    "    sb.countplot(x=var, hue='Heart Disease', data=heartdata, ax=axes[i])\n",
    "    axes[i].set_xlabel(var)\n",
    "    axes[i].set_ylabel('Count')\n",
    "    axes[i].legend(title='Heart Disease', loc='upper right')\n",
    "\n",
    "plt.tight_layout()\n",
    "plt.show()"
   ]
  },
  {
   "cell_type": "code",
   "execution_count": null,
   "id": "e47652ca",
   "metadata": {},
   "outputs": [],
   "source": [
    "numeric_cols = []\n",
    "for col in heartdata.columns:\n",
    "    if heartdata[col].nunique() > 2:\n",
    "        if heartdata[col].dtype == 'int64':\n",
    "            numeric_cols.append(col)\n",
    "\n",
    "# Generate boxplot for each numeric column by presence/absence of heart disease\n",
    "for col in numeric_cols:\n",
    "    plt.figure()\n",
    "    sb.boxplot(x='Heart Disease', y=col, data=heartdata)\n",
    "    plt.title(col)\n",
    "    plt.show()"
   ]
  },
  {
   "cell_type": "code",
   "execution_count": null,
   "id": "01842641",
   "metadata": {},
   "outputs": [],
   "source": [
    "medications = heartdata['Medications'].str.get_dummies(sep=', ')\n",
    "\n",
    "\n",
    "data2 = pd.concat([heartdata[binary_vars], medications], axis=1)\n",
    "corr_matrix = data2.corr()\n",
    "mask = corr_matrix.abs() > 0.5\n",
    "\n",
    "# Plot heatmap with masked values\n",
    "f, ax = plt.subplots(figsize=(30, 30))\n",
    "sb.heatmap(corr_matrix[mask], cmap='coolwarm', annot=True, ax=ax)"
   ]
  },
  {
   "cell_type": "code",
   "execution_count": null,
   "id": "7cc85fc8",
   "metadata": {},
   "outputs": [],
   "source": [
    "corr_indices = np.where(np.abs(corr_matrix) > 0.5)\n",
    "\n",
    "# Iterate over the indices and print out the correlations and the corresponding variable pairs\n",
    "for i, j in zip(*corr_indices):\n",
    "    if i != j and 0.5<corr_matrix.iloc[i, j]<1:\n",
    "        print(f\"Correlation of {corr_matrix.iloc[i, j]:.2f} between {corr_matrix.columns[i]} and {corr_matrix.columns[j]}\")"
   ]
  },
  {
   "attachments": {},
   "cell_type": "markdown",
   "id": "f2b869f6",
   "metadata": {},
   "source": [
    "### Creating Training and test Data"
   ]
  },
  {
   "cell_type": "code",
   "execution_count": null,
   "id": "41dd2d68",
   "metadata": {},
   "outputs": [],
   "source": [
    "heartdata_clean =  heartdata.drop(columns=['Gender','Echocardiogram','EKG','Cardiac CT','Chest x-ray','Pulmonary function tests','Spirometry','Medications'],axis=1)\n",
    "target =  heartdata_clean['Heart Disease']\n",
    "data =  heartdata_clean.drop('Heart Disease',axis=1)\n",
    "data.shape"
   ]
  },
  {
   "attachments": {},
   "cell_type": "markdown",
   "id": "2f3b671e",
   "metadata": {},
   "source": [
    "### Extra processing for Logistic Regression, KNN and Random forest"
   ]
  },
  {
   "cell_type": "code",
   "execution_count": null,
   "id": "530bef40",
   "metadata": {},
   "outputs": [],
   "source": [
    "from sklearn.preprocessing import StandardScaler\n",
    "standardScaler = StandardScaler()\n",
    "standardScaler.fit(data)\n",
    "data =  standardScaler.transform(data)\n",
    "\n",
    "\n",
    "from sklearn.model_selection import train_test_split\n",
    "train_X,test_X,train_y,test_y = train_test_split(data,target,random_state=3)\n",
    "train_X.shape"
   ]
  },
  {
   "attachments": {},
   "cell_type": "markdown",
   "id": "9ce20ddc",
   "metadata": {},
   "source": [
    "### Logistic Regression"
   ]
  },
  {
   "cell_type": "code",
   "execution_count": null,
   "id": "e4f947f1",
   "metadata": {},
   "outputs": [],
   "source": [
    "from sklearn.linear_model import LogisticRegression\n",
    "log_reg= LogisticRegression()\n",
    "log_reg.fit(train_X,train_y)\n",
    "log_pred_y = log_reg.predict(test_X)\n",
    "log_reg.score(train_X,train_y)\n",
    "log_reg.score(test_X,test_y)\n",
    "from sklearn.metrics import accuracy_score\n",
    "accuracy_score(test_y,log_pred_y)"
   ]
  },
  {
   "attachments": {},
   "cell_type": "markdown",
   "id": "a7c238a3",
   "metadata": {},
   "source": [
    "#### Use grid search to find better parameters"
   ]
  },
  {
   "cell_type": "code",
   "execution_count": null,
   "id": "639f5367",
   "metadata": {},
   "outputs": [],
   "source": [
    "from sklearn.model_selection import GridSearchCV\n",
    "param_test =  {'penalty':['l2','l1'],\n",
    "                'C':[0.01,0.1,1.0,10,100],\n",
    "                'class_weight':[None,'balanced']}\n",
    "log_gv =  GridSearchCV(estimator=log_reg,param_grid=param_test,cv=5)\n",
    "log_gv.fit(train_X,train_y)\n",
    "\n",
    "\n",
    "log_gv.best_params_\n",
    "\n",
    "\n",
    "log_gv.score(train_X,train_y)\n",
    "\n",
    "\n",
    "log_gv.score(test_X,test_y)\n",
    "\n",
    "\n",
    "log_pred_y =  log_gv.predict(test_X)\n",
    "\n",
    "\n",
    "from sklearn.metrics import classification_report\n",
    "\n",
    "print(classification_report(test_y,log_pred_y))\n",
    "from sklearn.metrics import confusion_matrix\n",
    "\n",
    "\n",
    "\n",
    "\n",
    "\n",
    "cm = confusion_matrix(test_y, log_pred_y)\n",
    "\n",
    "\n",
    "sb.heatmap(cm, annot=True, cmap='Blues')"
   ]
  },
  {
   "attachments": {},
   "cell_type": "markdown",
   "id": "73346337",
   "metadata": {},
   "source": [
    "### KNN"
   ]
  },
  {
   "cell_type": "code",
   "execution_count": null,
   "id": "60436ea9",
   "metadata": {},
   "outputs": [],
   "source": [
    "from sklearn.neighbors import KNeighborsClassifier\n",
    "knn =  KNeighborsClassifier()\n",
    "\n",
    "#训练数据\n",
    "knn.fit(train_X,train_y)\n",
    "\n",
    "# 预测数据\n",
    "knn_pred_y = knn.predict(test_X)\n",
    "\n",
    "# 评估模型\n",
    "print(\"Training score:\", knn.score(train_X,train_y))\n",
    "\n",
    "print(\"Test score: \", knn.score(test_X,test_y))\n",
    "\n",
    "print(\"Accuracy score: \", accuracy_score(test_y,knn_pred_y))"
   ]
  },
  {
   "attachments": {},
   "cell_type": "markdown",
   "id": "4cfb31d2",
   "metadata": {},
   "source": [
    "#### Use grid search to find better parameters"
   ]
  },
  {
   "cell_type": "code",
   "execution_count": null,
   "id": "9d047d67",
   "metadata": {},
   "outputs": [],
   "source": [
    "from sklearn.model_selection import GridSearchCV\n",
    "knn =  KNeighborsClassifier()\n",
    "param_test =  [\n",
    "    {'n_neighbors':[i for i in range(1,31)],\n",
    "    'weights':['uniform']},\n",
    "\n",
    "    {'n_neighbors':[i for i in range(1,21)],\n",
    "    'weights':['distance'],\n",
    "    'p':[i for i in range(1,6)]}\n",
    "]\n",
    "knn_gv = GridSearchCV(estimator = knn,param_grid=param_test,cv=5)\n",
    "print(knn_gv.fit(train_X,train_y))\n",
    "print(knn_gv.best_params_)\n",
    "\n",
    "knn_pred_y = knn_gv.predict(test_X)\n",
    "print(classification_report(test_y,knn_pred_y))"
   ]
  },
  {
   "cell_type": "code",
   "execution_count": null,
   "id": "f5eedc53",
   "metadata": {},
   "outputs": [],
   "source": [
    "cm2 = confusion_matrix(test_y, knn_pred_y)\n",
    "\n",
    "\n",
    "sb.heatmap(cm2, annot=True, cmap='Blues')"
   ]
  },
  {
   "attachments": {},
   "cell_type": "markdown",
   "id": "60e6a9fe",
   "metadata": {},
   "source": [
    "### Random Forest"
   ]
  },
  {
   "cell_type": "code",
   "execution_count": null,
   "id": "600ff24a",
   "metadata": {},
   "outputs": [],
   "source": [
    "from sklearn.ensemble import RandomForestClassifier\n",
    "\n",
    "rf_clf =  RandomForestClassifier(oob_score=True)\n",
    "\n",
    "\n",
    "rf_clf.fit(train_X,train_y)\n",
    "\n",
    "\n",
    "pred_rf =  rf_clf.predict(test_X)\n",
    "\n",
    "\n",
    "print(\"Train score:\", rf_clf.score(train_X, train_y))\n",
    "\n",
    "print(\"Test score:\", rf_clf.score(test_X,test_y))\n",
    "\n",
    "print(\"Accuracy Score:\",accuracy_score(test_y,pred_rf))\n",
    "\n",
    "print(\"OOB Score:\", rf_clf.oob_score_)\n"
   ]
  },
  {
   "attachments": {},
   "cell_type": "markdown",
   "id": "2248a82d",
   "metadata": {},
   "source": [
    "#### Use grid search to find better parameters"
   ]
  },
  {
   "cell_type": "code",
   "execution_count": null,
   "id": "b6a136ae",
   "metadata": {},
   "outputs": [],
   "source": [
    "param_test={\n",
    "        'n_estimators':[100,300,500],\n",
    "        'max_leaf_nodes':[10,12,14,16]\n",
    "}\n",
    "\n",
    "rf_gv =  GridSearchCV(estimator=rf_clf,param_grid=param_test,cv=5)\n",
    "rf_gv.fit(train_X,train_y)\n",
    "\n",
    "\n",
    "print(rf_gv.best_params_)\n",
    "\n",
    "\n",
    "\n",
    "pred_rf =  rf_gv.predict(test_X)\n",
    "\n",
    "print(rf_gv.score(test_X,test_y))"
   ]
  },
  {
   "cell_type": "code",
   "execution_count": null,
   "id": "60d72bd2",
   "metadata": {},
   "outputs": [],
   "source": [
    "cm3 = confusion_matrix(test_y, pred_rf)\n",
    "\n",
    "\n",
    "sb.heatmap(cm3, annot=True, cmap='Blues')"
   ]
  }
 ],
 "metadata": {
  "kernelspec": {
   "display_name": "Python 3 (ipykernel)",
   "language": "python",
   "name": "python3"
  },
  "language_info": {
   "codemirror_mode": {
    "name": "ipython",
    "version": 3
   },
   "file_extension": ".py",
   "mimetype": "text/x-python",
   "name": "python",
   "nbconvert_exporter": "python",
   "pygments_lexer": "ipython3",
   "version": "3.9.1"
  }
 },
 "nbformat": 4,
 "nbformat_minor": 5
}
