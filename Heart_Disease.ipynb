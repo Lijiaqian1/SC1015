{
 "cells": [
  {
   "cell_type": "markdown",
   "id": "a860fe44-a130-4ca6-8532-f274367ac563",
   "metadata": {},
   "source": [
    "## "
   ]
  },
  {
   "cell_type": "code",
   "execution_count": null,
   "id": "93f1141b",
   "metadata": {},
   "outputs": [],
   "source": []
  },
  {
   "cell_type": "markdown",
   "id": "1507726b",
   "metadata": {},
   "source": [
    "# Heart disease prediction"
   ]
  },
  {
   "cell_type": "code",
   "execution_count": null,
   "id": "bebad14b",
   "metadata": {},
   "outputs": [],
   "source": [
    "# Basic Libraries\n",
    "import numpy as np\n",
    "import pandas as pd\n",
    "import seaborn as sb\n",
    "import matplotlib.pyplot as plt # we only need pyplot\n",
    "from sklearn.model_selection import train_test_split\n",
    "from sklearn.tree import DecisionTreeClassifier\n",
    "from sklearn.tree import plot_tree\n",
    "from sklearn.metrics import confusion_matrix\n",
    "from ydata_profiling import ProfileReport\n",
    "#Profile report takes very long to generate change the bool below to allow for report generation\n",
    "togeneratereport = True\n",
    "sb.set() # set the default Seaborn style for graphics\n"
   ]
  },
  {
   "cell_type": "code",
   "execution_count": null,
   "id": "d044e030",
   "metadata": {},
   "outputs": [],
   "source": [
    "heartdata = pd.read_excel(\"Heart.xlsx\")\n",
    "heartdata.head()"
   ]
  },
  {
   "cell_type": "code",
   "execution_count": null,
   "id": "082168f2",
   "metadata": {},
   "outputs": [],
   "source": [
    "heartdata.info()"
   ]
  },
  {
   "cell_type": "code",
   "execution_count": null,
   "id": "c828b543",
   "metadata": {},
   "outputs": [],
   "source": [
    "if togeneratereport:\n",
    "    profile = ProfileReport(heartdata, title=\"Profiling Report Before Data Cleaning\")\n",
    "    profile.to_notebook_iframe()"
   ]
  },
  {
   "cell_type": "markdown",
   "id": "9b344648",
   "metadata": {},
   "source": [
    "### Data Cleaning "
   ]
  },
  {
   "cell_type": "code",
   "execution_count": null,
   "id": "0f39bc07",
   "metadata": {},
   "outputs": [],
   "source": [
    "#drop irrelevant columns - Name, Treatments \n",
    "heartdata = heartdata.drop(columns=['Name', 'Treatment'])"
   ]
  },
  {
   "cell_type": "code",
   "execution_count": null,
   "id": "d747f5aa",
   "metadata": {},
   "outputs": [],
   "source": [
    "heartdata.info()"
   ]
  },
  {
   "cell_type": "code",
   "execution_count": null,
   "id": "32592a36",
   "metadata": {},
   "outputs": [],
   "source": [
    "pd.set_option('display.max_columns', None)\n",
    "pd.set_option('display.max_rows', None)\n",
    "heartdata.describe()"
   ]
  },
  {
   "cell_type": "code",
   "execution_count": null,
   "id": "24913aed",
   "metadata": {},
   "outputs": [],
   "source": [
    "#Remove Outliers for Age\n",
    "\n",
    "def remove_outliers(df, df_col): \n",
    "    q1 = np.percentile(df_col, 25)\n",
    "    q3 = np.percentile(df_col, 75)\n",
    "    iqr = q3-q1\n",
    "    low_bound = q1-(1.5*iqr)\n",
    "    upp_bound = q3+(1.5*iqr)\n",
    "    df=df[(df_col>=low_bound)&(df_col<=upp_bound)]\n",
    "    return df"
   ]
  },
  {
   "cell_type": "code",
   "execution_count": null,
   "id": "aab340b3",
   "metadata": {},
   "outputs": [],
   "source": [
    "heartdata = remove_outliers(heartdata, heartdata[\"Age\"])\n",
    "heartdata.describe()"
   ]
  },
  {
   "cell_type": "code",
   "execution_count": null,
   "id": "34c75442",
   "metadata": {},
   "outputs": [],
   "source": [
    "#Change \"Heart Disease\" column from string to numerical categorical data \n",
    "heartdata[\"Heart Disease\"] = heartdata[\"Heart Disease\"].map({\"Absence\":0, \"Presence\":1})\n",
    "heartdata[\"Heart Disease\"].value_counts()"
   ]
  },
  {
   "cell_type": "code",
   "execution_count": null,
   "id": "34ee1a50",
   "metadata": {},
   "outputs": [],
   "source": [
    "heartdata[\"Gender\"] = heartdata[\"Gender\"].map({\"Male\":0, \"Female\":1})"
   ]
  },
  {
   "cell_type": "code",
   "execution_count": null,
   "id": "abd9908f",
   "metadata": {},
   "outputs": [],
   "source": [
    "heartdata[\"Blood culture\"].value_counts()"
   ]
  },
  {
   "cell_type": "code",
   "execution_count": null,
   "id": "7c1803c3",
   "metadata": {},
   "outputs": [],
   "source": [
    "\"\"\"\n",
    "Sort strings into categorical data, categorize by type of bacteria: None(0), Staphylococcus(1), Streptococcus(2), \n",
    "Candida(3), Other(4)\n",
    "\"\"\"\n",
    "def blood_culture(data): \n",
    "    if data=='None': \n",
    "        return 0\n",
    "    elif 'Staphylococcus' in data: \n",
    "        return 1\n",
    "    elif 'Streptococcus' in data: \n",
    "        return 2 \n",
    "    elif 'Candida' in data: \n",
    "        return 3\n",
    "    else: \n",
    "        return 4 \n",
    "heartdata[\"Blood culture\"]=heartdata[\"Blood culture\"].map(blood_culture)\n",
    "heartdata[\"Blood culture\"].value_counts()"
   ]
  },
  {
   "cell_type": "code",
   "execution_count": null,
   "id": "af2a83e8",
   "metadata": {},
   "outputs": [],
   "source": [
    "heartdata[\"Echocardiogram\"].value_counts() #this data is partially represented in other columns - drop? "
   ]
  },
  {
   "cell_type": "code",
   "execution_count": null,
   "id": "9574309a",
   "metadata": {},
   "outputs": [],
   "source": [
    "heartdata[\"EKG\"].value_counts() #too many variations - drop col?"
   ]
  },
  {
   "cell_type": "code",
   "execution_count": null,
   "id": "8b62cb7b",
   "metadata": {},
   "outputs": [],
   "source": [
    "heartdata[\"Cardiac CT\"].value_counts()"
   ]
  },
  {
   "cell_type": "code",
   "execution_count": null,
   "id": "4c33f7f0",
   "metadata": {},
   "outputs": [],
   "source": [
    "heartdata[\"Chest x-ray\"].value_counts() #too many empty, drop col or assume normal lung structure? "
   ]
  },
  {
   "cell_type": "code",
   "execution_count": null,
   "id": "1471a2d5",
   "metadata": {},
   "outputs": [],
   "source": [
    "heartdata[\"Previous illnesses\"].value_counts() #change to 1s and 0s "
   ]
  },
  {
   "cell_type": "code",
   "execution_count": null,
   "id": "412cd862",
   "metadata": {},
   "outputs": [],
   "source": [
    "def previous_illnesses(data): \n",
    "    if data=='None': \n",
    "        return 0\n",
    "    else:\n",
    "        return 1\n",
    "heartdata[\"Previous illnesses\"]=heartdata[\"Previous illnesses\"].map(previous_illnesses)\n",
    "heartdata[\"Previous illnesses\"].value_counts()"
   ]
  },
  {
   "cell_type": "code",
   "execution_count": null,
   "id": "88a5ea71",
   "metadata": {},
   "outputs": [],
   "source": [
    "heartdata[\"Pulmonary function tests\"].value_counts() #too many empty, drop col"
   ]
  },
  {
   "cell_type": "code",
   "execution_count": null,
   "id": "6ab076a7",
   "metadata": {},
   "outputs": [],
   "source": [
    "heartdata[\"Spirometry\"].value_counts() #too many empty, drop col"
   ]
  },
  {
   "cell_type": "code",
   "execution_count": null,
   "id": "f0bf8494",
   "metadata": {},
   "outputs": [],
   "source": [
    "heartdata.describe()"
   ]
  },
  {
   "cell_type": "code",
   "execution_count": null,
   "id": "8e93690f",
   "metadata": {},
   "outputs": [],
   "source": [
    "def stenosis(data): \n",
    "    if data[\"Mitral stenosis\"]==1: \n",
    "        return 1\n",
    "    elif data[\"Aortic stenosis\"]==1: \n",
    "        return 1 \n",
    "    elif data[\"Tricuspid stenosis\"]==1:\n",
    "        return 1 \n",
    "    elif data[\"Pulmonary stenosis\"]==1: \n",
    "        return 1\n",
    "    else: \n",
    "        return 0\n",
    "heartdata[\"Stenosis\"]=heartdata.apply(lambda data:stenosis(data), axis=1)"
   ]
  },
  {
   "cell_type": "code",
   "execution_count": null,
   "id": "472b9f89",
   "metadata": {},
   "outputs": [],
   "source": [
    "def cardiomyopathy(data): \n",
    "    if data[\"Dilated cardiomyopathy\"]==1: \n",
    "        return 1\n",
    "    elif data[\"Hypertrophic cardiomyopathy\"]==1: \n",
    "        return 1 \n",
    "    elif data[\"Restrictive cardiomyopathy\"]==1:\n",
    "        return 1 \n",
    "    elif data[\"Arrhythmogenic right ventricular cardiomyopathy\"]==1: \n",
    "        return 1\n",
    "    elif data[\"Takotsubo cardiomyopathy\"]==1: \n",
    "        return 1\n",
    "    else: \n",
    "        return 0\n",
    "heartdata[\"Cardiomyopathy\"]=heartdata.apply(lambda data:cardiomyopathy(data), axis=1)"
   ]
  },
  {
   "cell_type": "code",
   "execution_count": null,
   "id": "354d3fe2",
   "metadata": {},
   "outputs": [],
   "source": [
    "heartdata.describe()"
   ]
  },
  {
   "cell_type": "code",
   "execution_count": null,
   "id": "d4181620",
   "metadata": {
    "scrolled": true
   },
   "outputs": [],
   "source": [
    "#drop all non-binary variables\n",
    "heartdata.info()"
   ]
  },
  {
   "cell_type": "code",
   "execution_count": null,
   "id": "93ca7b51",
   "metadata": {},
   "outputs": [],
   "source": [
    "cat_heartdata = heartdata.drop(heartdata.columns[[1, 5, 6, 7, 9, 10, 11, 19, 20, 21, 22, 31, 32, \n",
    "                                                  33, 34, 35, 36, 37, 38, 39, 41, 43, 44]], axis=1)\n",
    "cat_heartdata.info()"
   ]
  },
  {
   "cell_type": "code",
   "execution_count": null,
   "id": "d113f49c",
   "metadata": {},
   "outputs": [],
   "source": [
    "x = cat_heartdata.loc[:, cat_heartdata.columns != \"Heart Disease\"]\n",
    "#print(x.describe())\n",
    "y = pd.DataFrame(cat_heartdata[\"Heart Disease\"]) "
   ]
  },
  {
   "cell_type": "code",
   "execution_count": null,
   "id": "e0c34d05",
   "metadata": {},
   "outputs": [],
   "source": [
    "from sklearn.model_selection import train_test_split\n",
    "x_train, x_test, y_train, y_test = train_test_split(\n",
    "    x, y, test_size=0.20\n",
    ")"
   ]
  },
  {
   "cell_type": "code",
   "execution_count": null,
   "id": "f9f67678",
   "metadata": {},
   "outputs": [],
   "source": [
    "from sklearn.naive_bayes import BernoulliNB\n",
    "BNBclf = BernoulliNB()\n",
    "BNBclf.fit(x_train, np.ravel(y_train))"
   ]
  },
  {
   "cell_type": "code",
   "execution_count": null,
   "id": "906f17f7",
   "metadata": {},
   "outputs": [],
   "source": [
    "from sklearn.metrics import (\n",
    "    accuracy_score,\n",
    "    confusion_matrix,\n",
    "    ConfusionMatrixDisplay,\n",
    "    f1_score,\n",
    ")\n",
    "\n",
    "\n",
    "y_train_pred = BNBclf.predict(x_train) \n",
    "y_test_pred = BNBclf.predict(x_test)\n",
    "\n",
    "print(\"Train accuracy\\t:\", accuracy_score(y_train_pred, y_train)) \n",
    "print(\"Test accuracy\\t:\", accuracy_score(y_test_pred, y_test)) \n",
    "\n",
    "\"\"\"\n",
    "print(\"Train score\\t:\" + int(BNBclf.score(x_train, y_train))) \n",
    "print(\"Test score\\t:\" + int(BNBclf.score(x_test, y_test))) \n",
    "\"\"\"\n",
    "\n",
    "#confusion matrix for train data \n",
    "labels=[0,1]\n",
    "cm = confusion_matrix(y_train, y_train_pred, labels=labels)\n",
    "disp = ConfusionMatrixDisplay(confusion_matrix=cm, display_labels=labels)\n",
    "disp.plot();\n",
    "\n",
    "#confusion matrix for test data \n",
    "labels=[0,1]\n",
    "cm = confusion_matrix(y_test, y_test_pred, labels=labels)\n",
    "disp = ConfusionMatrixDisplay(confusion_matrix=cm, display_labels=labels)\n",
    "disp.plot();"
   ]
  },
  {
   "cell_type": "code",
   "execution_count": null,
   "id": "13d5e20d",
   "metadata": {},
   "outputs": [],
   "source": [
    "correlations = cat_heartdata.corr()\n",
    "\n",
    "# plot the heatmap \n",
    "plt.figure(figsize=(40,40))\n",
    "sb.heatmap(correlations, xticklabels=correlations.columns, yticklabels=correlations.columns, annot=True)"
   ]
  },
  {
   "cell_type": "code",
   "execution_count": null,
   "id": "d44d377f",
   "metadata": {},
   "outputs": [],
   "source": [
    "cont_heartdata = heartdata.iloc[:,[1, 5, 6, 7, 9, 10, 11, 45]] \n",
    "cont_heartdata.info()"
   ]
  },
  {
   "cell_type": "code",
   "execution_count": null,
   "id": "5f151570",
   "metadata": {},
   "outputs": [],
   "source": [
    "cont_heartdata = remove_outliers(cont_heartdata, cont_heartdata[\"Age\"])\n",
    "cont_heartdata = remove_outliers(cont_heartdata, cont_heartdata[\"Systolic\"])\n",
    "cont_heartdata = remove_outliers(cont_heartdata, cont_heartdata[\"Diastolic\"])\n",
    "cont_heartdata = remove_outliers(cont_heartdata, cont_heartdata[\"Heart rate (bpm)\"])\n",
    "cont_heartdata = remove_outliers(cont_heartdata, cont_heartdata[\"Cholesterol level (mg/dL)\"])\n",
    "cont_heartdata = remove_outliers(cont_heartdata, cont_heartdata[\"LDL level (mg/dL)\"])\n",
    "cont_heartdata = remove_outliers(cont_heartdata, cont_heartdata[\"HDL level (mg/dL)\"])\n",
    "cont_heartdata.info()"
   ]
  },
  {
   "cell_type": "code",
   "execution_count": null,
   "id": "73b8433f",
   "metadata": {},
   "outputs": [],
   "source": [
    "x = cont_heartdata.drop(columns=[\"Heart Disease\"])\n",
    "print(x.info())\n",
    "y = pd.DataFrame(cont_heartdata[\"Heart Disease\"])"
   ]
  },
  {
   "cell_type": "code",
   "execution_count": null,
   "id": "fd359bbc",
   "metadata": {},
   "outputs": [],
   "source": [
    "from sklearn.model_selection import train_test_split\n",
    "x_train, x_test, y_train, y_test = train_test_split(\n",
    "    x, y, test_size=0.20\n",
    ")"
   ]
  },
  {
   "cell_type": "code",
   "execution_count": null,
   "id": "08b4d46e",
   "metadata": {},
   "outputs": [],
   "source": [
    "from sklearn.naive_bayes import GaussianNB\n",
    "GNBclf = GaussianNB()\n",
    "GNBclf.fit(x_train, np.ravel(y_train))"
   ]
  },
  {
   "cell_type": "code",
   "execution_count": null,
   "id": "b4c6d93f",
   "metadata": {},
   "outputs": [],
   "source": [
    "from sklearn.metrics import (\n",
    "    accuracy_score,\n",
    "    confusion_matrix,\n",
    "    ConfusionMatrixDisplay,\n",
    "    f1_score,\n",
    ")\n",
    "\n",
    "\n",
    "y_train_pred = GNBclf.predict(x_train) \n",
    "y_test_pred = GNBclf.predict(x_test)\n",
    "\n",
    "print(\"Train accuracy\\t:\", accuracy_score(y_train_pred, y_train)) \n",
    "print(\"Test accuracy\\t:\", accuracy_score(y_test_pred, y_test)) \n",
    "\n",
    "\"\"\"\n",
    "print(\"Train score\\t:\" + int(BNBclf.score(x_train, y_train))) \n",
    "print(\"Test score\\t:\" + int(BNBclf.score(x_test, y_test))) \n",
    "\"\"\"\n",
    "\n",
    "#confusion matrix for train data \n",
    "labels=[0,1]\n",
    "cm = confusion_matrix(y_train, y_train_pred, labels=labels)\n",
    "disp = ConfusionMatrixDisplay(confusion_matrix=cm, display_labels=labels)\n",
    "disp.plot();\n",
    "\n",
    "#confusion matrix for test data \n",
    "labels=[0,1]\n",
    "cm = confusion_matrix(y_test, y_test_pred, labels=labels)\n",
    "disp = ConfusionMatrixDisplay(confusion_matrix=cm, display_labels=labels)\n",
    "disp.plot();"
   ]
  },
  {
   "cell_type": "code",
   "execution_count": null,
   "id": "f2052016",
   "metadata": {},
   "outputs": [],
   "source": []
  },
  {
   "cell_type": "code",
   "execution_count": null,
   "id": "27a705f0",
   "metadata": {},
   "source": [
    "### EDA"
   ]
  },
  {
   "cell_type": "code",
   "execution_count": null,
   "id": "0577c849",
   "metadata": {},
   "outputs": [],
   "source": [
    "if togeneratereport:\n",
    "    profile = ProfileReport(heartdata, title=\"Profiling Report\")\n",
    "    profile.to_notebook_iframe()"
   ]
  },
  {
   "cell_type": "code",
   "execution_count": null,
   "id": "54703d92",
   "metadata": {},
   "outputs": [],
   "source": [
    "dataNum = heartdata.select_dtypes(include = np.int64)"
   ]
  },
  {
   "cell_type": "code",
   "execution_count": null,
   "id": "2455f26b",
   "metadata": {},
   "outputs": [],
   "source": [
    "chestpain = pd.DataFrame(dataNum['Chest pain'])\n",
    "f = plt.figure(figsize=(24, 12))\n",
    "sb.histplot(data=chestpain, bins=2)"
   ]
  },
  {
   "cell_type": "code",
   "execution_count": null,
   "id": "f37e97eb",
   "metadata": {},
   "outputs": [],
   "source": [
    "binary_vars = []\n",
    "for col in heartdata.columns:\n",
    "    if heartdata[col].nunique() == 2:\n",
    "        binary_vars.append(col)\n",
    "corr_matrix = heartdata[binary_vars + ['Heart Disease']].corr()\n",
    "f, ax = plt.subplots(figsize=(30, 30))\n",
    "sb.heatmap(corr_matrix, cmap='coolwarm', annot=True,ax=ax)\n",
    "\n",
    "# Create subplots for each binary variable\n",
    "fig, axes = plt.subplots(nrows=len(binary_vars), figsize=(8, 6*len(binary_vars)))\n",
    "for i, var in enumerate(binary_vars):\n",
    "    sb.countplot(x=var, hue='Heart Disease', data=heartdata, ax=axes[i])\n",
    "    axes[i].set_xlabel(var)\n",
    "    axes[i].set_ylabel('Count')\n",
    "    axes[i].legend(title='Heart Disease', loc='upper right')\n",
    "\n",
    "plt.tight_layout()\n",
    "plt.show()"
   ]
  },
  {
   "cell_type": "code",
   "execution_count": null,
   "id": "e47652ca",
   "metadata": {},
   "outputs": [],
   "source": [
    "numeric_cols = []\n",
    "for col in heartdata.columns:\n",
    "    if heartdata[col].nunique() > 2:\n",
    "        if heartdata[col].dtype == 'int64':\n",
    "            numeric_cols.append(col)\n",
    "\n",
    "# Generate boxplot for each numeric column by presence/absence of heart disease\n",
    "for col in numeric_cols:\n",
    "    plt.figure()\n",
    "    sb.boxplot(x='Heart Disease', y=col, data=heartdata)\n",
    "    plt.title(col)\n",
    "    plt.show()"
   ]
  },
  {
   "cell_type": "code",
   "execution_count": null,
   "id": "01842641",
   "metadata": {},
   "outputs": [],
   "source": [
    "medications = heartdata['Medications'].str.get_dummies(sep=', ')\n",
    "\n",
    "\n",
    "data2 = pd.concat([heartdata[binary_vars], medications], axis=1)\n",
    "corr_matrix = data2.corr()\n",
    "mask = corr_matrix.abs() > 0.5\n",
    "\n",
    "# Plot heatmap with masked values\n",
    "f, ax = plt.subplots(figsize=(30, 30))\n",
    "sb.heatmap(corr_matrix[mask], cmap='coolwarm', annot=True, ax=ax)"
   ]
  },
  {
   "cell_type": "code",
   "execution_count": null,
   "id": "7cc85fc8",
   "metadata": {},
   "outputs": [],
   "source": [
    "corr_indices = np.where(np.abs(corr_matrix) > 0.5)\n",
    "\n",
    "# Iterate over the indices and print out the correlations and the corresponding variable pairs\n",
    "for i, j in zip(*corr_indices):\n",
    "    if i != j and 0.5<corr_matrix.iloc[i, j]<1:\n",
    "        print(f\"Correlation of {corr_matrix.iloc[i, j]:.2f} between {corr_matrix.columns[i]} and {corr_matrix.columns[j]}\")"
   ]
  }
 ],
 "metadata": {
  "kernelspec": {
   "display_name": "Python 3 (ipykernel)",
   "language": "python",
   "name": "python3"
  },
  "language_info": {
   "codemirror_mode": {
    "name": "ipython",
    "version": 3
   },
   "file_extension": ".py",
   "mimetype": "text/x-python",
   "name": "python",
   "nbconvert_exporter": "python",
   "pygments_lexer": "ipython3",
   "version": "3.9.1"
  }
 },
 "nbformat": 4,
 "nbformat_minor": 5
}
