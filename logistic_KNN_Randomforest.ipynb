{
 "cells": [
  {
   "cell_type": "code",
   "execution_count": null,
   "id": "48822516",
   "metadata": {},
   "outputs": [],
   "source": [
    "from sklearn.preprocessing import StandardScaler\n",
    "from sklearn.preprocessing import MinMaxScaler,scale\n",
    "from sklearn.model_selection import train_test_split\n",
    "\n",
    "from sklearn.neighbors import KNeighborsClassifier\n",
    "from sklearn import tree\n",
    "from sklearn.naive_bayes import GaussianNB\n",
    "from sklearn.naive_bayes import BernoulliNB\n",
    "from sklearn.svm import SVC\n",
    "from sklearn.ensemble import RandomForestClassifier\n",
    "\n",
    "from sklearn.model_selection import cross_val_score\n",
    "from sklearn.metrics import accuracy_score\n",
    "from sklearn.metrics import confusion_matrix\n",
    "from sklearn.metrics import precision_recall_curve  \n",
    "from sklearn.metrics import classification_report\n",
    "from sklearn.metrics import mean_squared_error\n",
    "from sklearn.metrics import roc_curve, auc, recall_score, precision_score\n",
    "from sklearn import metrics\n",
    "\n",
    "import matplotlib.pyplot as plt\n",
    "import matplotlib as mpl\n",
    "import numpy as np\n",
    "import pandas as pd\n",
    "\n",
    "import seaborn as sns\n",
    "import math\n",
    "\n",
    "mpl.rcParams['font.sans-serif'] = [u'SimHei']\n",
    "mpl.rcParams['axes.unicode_minus'] = False"
   ]
  },
  {
   "cell_type": "code",
   "execution_count": null,
   "id": "5df65bae",
   "metadata": {},
   "outputs": [],
   "source": [
    "heart= pd.read_excel('Heart.xlsx')\n",
    "print(heart.head(2))"
   ]
  },
  {
   "cell_type": "code",
   "execution_count": null,
   "id": "fee05ad1",
   "metadata": {},
   "outputs": [],
   "source": [
    "heart_new =  heart.drop(['Name','Gender','Echocardiogram','Blood culture','EKG','Cardiac CT','Chest x-ray','Previous illnesses','Pulmonary function tests','Spirometry','Medications','Treatment'],axis=1)\n",
    "label =  heart_new['Heart Disease']\n",
    "data =  heart_new.drop('Heart Disease',axis=1)\n",
    "data.shape\n"
   ]
  },
  {
   "cell_type": "code",
   "execution_count": null,
   "id": "55309704",
   "metadata": {},
   "outputs": [],
   "source": [
    "from sklearn.preprocessing import StandardScaler\n",
    "standardScaler = StandardScaler()\n",
    "standardScaler.fit(data)\n",
    "data =  standardScaler.transform(data)\n",
    "\n",
    "\n",
    "from sklearn.model_selection import train_test_split\n",
    "train_X,test_X,train_y,test_y = train_test_split(data,label,random_state=3)\n",
    "train_X.shape"
   ]
  },
  {
   "attachments": {},
   "cell_type": "markdown",
   "id": "52bf50ea",
   "metadata": {},
   "source": [
    "# Build model using default parameters"
   ]
  },
  {
   "cell_type": "code",
   "execution_count": null,
   "id": "8567995c",
   "metadata": {},
   "outputs": [],
   "source": [
    "from sklearn.linear_model import LogisticRegression\n",
    "log_reg= LogisticRegression()\n",
    "log_reg.fit(train_X,train_y)\n",
    "log_pred_y = log_reg.predict(test_X)\n",
    "log_reg.score(train_X,train_y)\n",
    "log_reg.score(test_X,test_y)\n",
    "from sklearn.metrics import accuracy_score\n",
    "accuracy_score(test_y,log_pred_y)"
   ]
  },
  {
   "cell_type": "markdown",
   "id": "b1f1b381",
   "metadata": {},
   "source": [
    "# Use grid search to find better parameters"
   ]
  },
  {
   "cell_type": "code",
   "execution_count": null,
   "id": "cd3a8ec5",
   "metadata": {
    "scrolled": true
   },
   "outputs": [],
   "source": [
    "from sklearn.model_selection import GridSearchCV\n",
    "param_test =  {'penalty':['l2','l1'],\n",
    "                'C':[0.01,0.1,1.0,10,100],\n",
    "                'class_weight':[None,'balanced']}\n",
    "log_gv =  GridSearchCV(estimator=log_reg,param_grid=param_test,cv=5)\n",
    "log_gv.fit(train_X,train_y)\n",
    "\n",
    "\n",
    "log_gv.best_params_\n",
    "\n",
    "\n",
    "log_gv.score(train_X,train_y)\n",
    "\n",
    "\n",
    "log_gv.score(test_X,test_y)\n",
    "\n",
    "\n",
    "log_pred_y =  log_gv.predict(test_X)\n",
    "\n",
    "\n",
    "from sklearn.metrics import classification_report\n",
    "\n",
    "print(classification_report(test_y,log_pred_y))\n",
    "from sklearn.metrics import confusion_matrix\n",
    "\n",
    "\n",
    "\n",
    "\n",
    "\n",
    "cm = confusion_matrix(test_y, log_pred_y)\n",
    "\n",
    "\n",
    "sns.heatmap(cm, annot=True, cmap='Blues')"
   ]
  },
  {
   "cell_type": "markdown",
   "id": "37c39075",
   "metadata": {},
   "source": [
    "# KNN"
   ]
  },
  {
   "cell_type": "code",
   "execution_count": null,
   "id": "887e882b",
   "metadata": {},
   "outputs": [],
   "source": [
    "from sklearn.neighbors import KNeighborsClassifier\n",
    "knn =  KNeighborsClassifier()\n",
    "\n",
    "#训练数据\n",
    "knn.fit(train_X,train_y)\n",
    "\n",
    "# 预测数据\n",
    "knn_pred_y = knn.predict(test_X)\n",
    "\n",
    "# 评估模型\n",
    "print(knn.score(train_X,train_y))\n",
    "\n",
    "print(knn.score(test_X,test_y))\n",
    "\n",
    "print(accuracy_score(test_y,knn_pred_y))"
   ]
  },
  {
   "cell_type": "code",
   "execution_count": null,
   "id": "97a3d716",
   "metadata": {},
   "outputs": [],
   "source": [
    "from sklearn.model_selection import GridSearchCV\n",
    "knn =  KNeighborsClassifier()\n",
    "param_test =  [\n",
    "    {'n_neighbors':[i for i in range(1,31)],\n",
    "    'weights':['uniform']},\n",
    "\n",
    "    {'n_neighbors':[i for i in range(1,21)],\n",
    "    'weights':['distance'],\n",
    "    'p':[i for i in range(1,6)]}\n",
    "]\n",
    "knn_gv = GridSearchCV(estimator = knn,param_grid=param_test,cv=5)\n",
    "print(knn_gv.fit(train_X,train_y))\n",
    "print(knn_gv.best_params_)\n",
    "\n",
    "knn_pred_y = knn_gv.predict(test_X)\n",
    "print(classification_report(test_y,knn_pred_y))"
   ]
  },
  {
   "cell_type": "code",
   "execution_count": null,
   "id": "017b22a5",
   "metadata": {},
   "outputs": [],
   "source": [
    "cm2 = confusion_matrix(test_y, knn_pred_y)\n",
    "\n",
    "\n",
    "sns.heatmap(cm2, annot=True, cmap='Blues')"
   ]
  },
  {
   "attachments": {},
   "cell_type": "markdown",
   "id": "2364d4cf",
   "metadata": {},
   "source": [
    "# Random forest"
   ]
  },
  {
   "cell_type": "code",
   "execution_count": null,
   "id": "6e335fbe",
   "metadata": {},
   "outputs": [],
   "source": [
    "from sklearn.ensemble import RandomForestClassifier\n",
    "\n",
    "rf_clf =  RandomForestClassifier(oob_score=True)\n",
    "\n",
    "\n",
    "rf_clf.fit(train_X,train_y)\n",
    "\n",
    "\n",
    "pred_rf =  rf_clf.predict(test_X)\n",
    "\n",
    "\n",
    "print(rf_clf.score(train_X, train_y))\n",
    "\n",
    "print(rf_clf.score(test_X,test_y))\n",
    "\n",
    "print(accuracy_score(test_y,pred_rf))\n",
    "\n",
    "print(rf_clf.oob_score_)\n",
    "\n",
    "\n"
   ]
  },
  {
   "cell_type": "code",
   "execution_count": null,
   "id": "7095aae6",
   "metadata": {},
   "outputs": [],
   "source": [
    "param_test={\n",
    "        'n_estimators':[100,300,500],\n",
    "        'max_leaf_nodes':[10,12,14,16]\n",
    "}\n",
    "\n",
    "rf_gv =  GridSearchCV(estimator=rf_clf,param_grid=param_test,cv=5)\n",
    "rf_gv.fit(train_X,train_y)\n",
    "\n",
    "\n",
    "print(rf_gv.best_params_)\n",
    "\n",
    "\n",
    "\n",
    "pred_rf =  rf_gv.predict(test_X)\n",
    "\n",
    "print(rf_gv.score(test_X,test_y))\n"
   ]
  },
  {
   "cell_type": "code",
   "execution_count": null,
   "id": "cdd36bca",
   "metadata": {},
   "outputs": [],
   "source": [
    "cm3 = confusion_matrix(test_y, pred_rf)\n",
    "\n",
    "\n",
    "sns.heatmap(cm3, annot=True, cmap='Blues')"
   ]
  }
 ],
 "metadata": {
  "kernelspec": {
   "display_name": "Python 3 (ipykernel)",
   "language": "python",
   "name": "python3"
  },
  "language_info": {
   "codemirror_mode": {
    "name": "ipython",
    "version": 3
   },
   "file_extension": ".py",
   "mimetype": "text/x-python",
   "name": "python",
   "nbconvert_exporter": "python",
   "pygments_lexer": "ipython3",
   "version": "3.9.1"
  }
 },
 "nbformat": 4,
 "nbformat_minor": 5
}
